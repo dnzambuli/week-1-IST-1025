{
 "cells": [
  {
   "cell_type": "code",
   "execution_count": 3,
   "id": "51a8b0cf",
   "metadata": {},
   "outputs": [
    {
     "name": "stdout",
     "output_type": "stream",
     "text": [
      "I love python\n"
     ]
    }
   ],
   "source": [
    "print(\"I love python\")"
   ]
  },
  {
   "cell_type": "markdown",
   "id": "f5021e5a",
   "metadata": {},
   "source": [
    "## Hello world in python\n",
    "\n",
    "the print key word is used to display txt on the console\n",
    "```python3\n",
    "print(\"hello World\")\n",
    "```\n",
    "outputs\n",
    "```bash\n",
    "> hello world\n",
    "```\n",
    "\n",
    "when saving a file the .ipynb denotes a notebook file"
   ]
  },
  {
   "cell_type": "code",
   "execution_count": 6,
   "id": "779f6bb6",
   "metadata": {},
   "outputs": [
    {
     "name": "stdout",
     "output_type": "stream",
     "text": [
      "************ WELCOME TO MAMA OTIS BARBERSHOP ************\n",
      "\t Services\n",
      "Clean Shave\n",
      "Beard Shave\n",
      "Manicure\n",
      "Pedicure\n",
      "Massage\n"
     ]
    }
   ],
   "source": [
    "star = '*'\n",
    "a = star * 12\n",
    "print('%s WELCOME TO MAMA OTIS BARBERSHOP %s\\n\\t Services\\nClean Shave\\nBeard Shave\\nManicure\\nPedicure\\nMassage' %(a,a))"
   ]
  },
  {
   "cell_type": "markdown",
   "id": "80a37a63",
   "metadata": {},
   "source": [
    "To print values in a string we use string formatting\n",
    "```python3\n",
    "\\n # newline character\n",
    "\\t # tab character\n",
    "%s # insert string\n",
    "% # the string to insert\n",
    "```\n",
    "in the case a long repetiotive string is needed a string method repeting by the number multipliying the string\n",
    "```python3\n",
    "star = '*'\n",
    "a = star * 12\n",
    "# repeats the * 12 times \n",
    "```\n",
    "\n",
    "To print the value \n",
    "```bash\n",
    ">\n",
    "************ WELCOME TO MAMA OTIS BARBERSHOP ************\n",
    "\t Services\n",
    "Clean Shave\n",
    "Beard Shave\n",
    "Manicure\n",
    "Pedicure\n",
    "Massage\n",
    "```\n",
    "in python we write \n",
    "```python3\n",
    "star = '*'\n",
    "a = star * 12\n",
    "print('%s WELCOME TO MAMA OTIS BARBERSHOP %s\\n\\t Services\\nClean Shave\\nBeard Shave\\nManicure\\nPedicure\\nMassage' %(a,a))\n",
    "```\n"
   ]
  }
 ],
 "metadata": {
  "kernelspec": {
   "display_name": "Python 3 (ipykernel)",
   "language": "python",
   "name": "python3"
  },
  "language_info": {
   "codemirror_mode": {
    "name": "ipython",
    "version": 3
   },
   "file_extension": ".py",
   "mimetype": "text/x-python",
   "name": "python",
   "nbconvert_exporter": "python",
   "pygments_lexer": "ipython3",
   "version": "3.9.7"
  }
 },
 "nbformat": 4,
 "nbformat_minor": 5
}
